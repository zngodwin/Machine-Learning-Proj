{
 "cells": [
  {
   "cell_type": "markdown",
   "metadata": {},
   "source": [
    "# Model Street View House Names Data"
   ]
  },
  {
   "cell_type": "markdown",
   "metadata": {},
   "source": [
    "In this script we'll model the SVHN digit recognition dataset in python. The input is all set up for you, but its up to you to build the network. \n",
    "\n",
    "First we'll import all the libraries we need. "
   ]
  },
  {
   "cell_type": "code",
   "execution_count": 1,
   "metadata": {},
   "outputs": [
    {
     "name": "stderr",
     "output_type": "stream",
     "text": [
      "Using TensorFlow backend.\n"
     ]
    }
   ],
   "source": [
    "import pandas as pd\n",
    "import numpy as np\n",
    "import os\n",
    "import scipy.io\n",
    "import keras"
   ]
  },
  {
   "cell_type": "markdown",
   "metadata": {},
   "source": [
    "# IMPORTANT IMPORTANT IMPORTANT"
   ]
  },
  {
   "cell_type": "markdown",
   "metadata": {},
   "source": [
    "Change the line below to point to the SVHN datafile included in the zip you downloaded to go along with this notebook. "
   ]
  },
  {
   "cell_type": "code",
   "execution_count": 2,
   "metadata": {},
   "outputs": [],
   "source": [
    "#os.chdir('C:\\\\Users\\\\John\\\\Documents\\\\Small Datasets\\\\SVHN Data')\n",
    "os.chdir(os.path.join('\\\\','/Users', 'Zac', 'Desktop', 'Data 640', 'SVHN Data and Notebook'))"
   ]
  },
  {
   "cell_type": "markdown",
   "metadata": {},
   "source": [
    "# IMPORTANT IMPORTANT IMPORTANT"
   ]
  },
  {
   "cell_type": "markdown",
   "metadata": {},
   "source": [
    "## Import the data. "
   ]
  },
  {
   "cell_type": "markdown",
   "metadata": {},
   "source": [
    "This is all the boilerplate that imports the dataset and sets up the matrix. it should all run in one go AS LONG AS you set the directory above correctly and included the double slashes (\"\\\\\\\")."
   ]
  },
  {
   "cell_type": "code",
   "execution_count": 40,
   "metadata": {},
   "outputs": [
    {
     "name": "stdout",
     "output_type": "stream",
     "text": [
      "{'__header__': b'MATLAB 5.0 MAT-file, Platform: GLNXA64, Created on: Mon Dec  5 21:09:26 2011', '__version__': '1.0', '__globals__': [], 'X': array([[[[ 33,  84,  19, ...,  92, 190, 216],\n",
      "         [ 30,  76,  54, ...,  78, 188, 217],\n",
      "         [ 38,  59, 110, ..., 101, 191, 212]],\n",
      "\n",
      "        [[ 15,  86,  20, ...,  94, 205, 221],\n",
      "         [ 23,  73,  52, ...,  82, 203, 222],\n",
      "         [ 19,  66, 111, ..., 105, 206, 217]],\n",
      "\n",
      "        [[ 15,  77,  25, ..., 114, 220, 226],\n",
      "         [ 17,  78,  57, ..., 101, 218, 227],\n",
      "         [ 19,  56, 116, ..., 125, 220, 221]],\n",
      "\n",
      "        ...,\n",
      "\n",
      "        [[ 72,  90,  65, ..., 200, 229, 200],\n",
      "         [ 65,  78, 144, ..., 201, 231, 199],\n",
      "         [ 56,  69, 223, ..., 203, 224, 191]],\n",
      "\n",
      "        [[ 82,  88,  78, ..., 192, 229, 193],\n",
      "         [ 77,  77, 148, ..., 193, 229, 188],\n",
      "         [ 57,  67, 218, ..., 195, 224, 182]],\n",
      "\n",
      "        [[ 89,  88,  98, ..., 190, 229, 197],\n",
      "         [ 79,  78, 158, ..., 191, 228, 189],\n",
      "         [ 59,  66, 220, ..., 193, 223, 186]]],\n",
      "\n",
      "\n",
      "       [[[ 28,  85,  21, ...,  92, 183, 204],\n",
      "         [ 39,  77,  53, ...,  78, 182, 205],\n",
      "         [ 35,  61, 110, ..., 103, 186, 202]],\n",
      "\n",
      "        [[ 14,  83,  19, ...,  93, 200, 210],\n",
      "         [ 25,  73,  52, ...,  80, 199, 211],\n",
      "         [ 22,  64, 106, ..., 106, 201, 208]],\n",
      "\n",
      "        [[ 14,  74,  25, ..., 111, 218, 220],\n",
      "         [ 20,  69,  56, ...,  98, 217, 221],\n",
      "         [ 17,  59, 111, ..., 124, 218, 217]],\n",
      "\n",
      "        ...,\n",
      "\n",
      "        [[ 40,  89,  63, ..., 181, 227, 201],\n",
      "         [ 39,  82, 137, ..., 180, 228, 199],\n",
      "         [ 50,  64, 208, ..., 184, 223, 193]],\n",
      "\n",
      "        [[ 67,  88,  91, ..., 177, 227, 195],\n",
      "         [ 58,  79, 153, ..., 176, 226, 191],\n",
      "         [ 52,  70, 214, ..., 180, 222, 186]],\n",
      "\n",
      "        [[ 83,  88, 130, ..., 183, 228, 196],\n",
      "         [ 78,  81, 180, ..., 182, 224, 190],\n",
      "         [ 60,  67, 229, ..., 187, 221, 186]]],\n",
      "\n",
      "\n",
      "       [[[ 40,  83,  21, ...,  99, 171, 198],\n",
      "         [ 41,  76,  53, ...,  84, 170, 198],\n",
      "         [ 38,  60, 110, ..., 112, 175, 197]],\n",
      "\n",
      "        [[ 18,  78,  20, ...,  94, 189, 202],\n",
      "         [ 21,  77,  51, ...,  81, 189, 202],\n",
      "         [ 26,  58, 106, ..., 110, 193, 201]],\n",
      "\n",
      "        [[ 16,  61,  22, ..., 107, 213, 212],\n",
      "         [ 17,  50,  52, ...,  94, 213, 211],\n",
      "         [ 23,  54, 106, ..., 123, 215, 210]],\n",
      "\n",
      "        ...,\n",
      "\n",
      "        [[ 23,  90,  79, ..., 167, 231, 203],\n",
      "         [ 29,  85, 147, ..., 166, 230, 200],\n",
      "         [ 45,  63, 210, ..., 171, 226, 196]],\n",
      "\n",
      "        [[ 35,  88, 125, ..., 172, 229, 198],\n",
      "         [ 42,  83, 181, ..., 171, 226, 194],\n",
      "         [ 44,  66, 230, ..., 176, 223, 191]],\n",
      "\n",
      "        [[ 72,  85, 178, ..., 185, 227, 195],\n",
      "         [ 69,  82, 218, ..., 184, 223, 190],\n",
      "         [ 53,  70, 254, ..., 189, 220, 187]]],\n",
      "\n",
      "\n",
      "       ...,\n",
      "\n",
      "\n",
      "       [[[ 86, 100,  88, ...,  99, 187, 233],\n",
      "         [ 81,  98, 162, ...,  94, 185, 226],\n",
      "         [ 75,  72, 237, ..., 110, 186, 228]],\n",
      "\n",
      "        [[ 87,  98,  89, ...,  96, 204, 230],\n",
      "         [ 82,  94, 163, ...,  91, 202, 224],\n",
      "         [ 71,  76, 238, ..., 109, 199, 225]],\n",
      "\n",
      "        [[ 82,  95,  84, ..., 108, 217, 228],\n",
      "         [ 79,  93, 156, ..., 103, 217, 223],\n",
      "         [ 65,  73, 230, ..., 124, 210, 221]],\n",
      "\n",
      "        ...,\n",
      "\n",
      "        [[104, 104,  62, ..., 210, 204, 198],\n",
      "         [104, 104, 142, ..., 207, 200, 196],\n",
      "         [ 87,  86, 227, ..., 204, 195, 190]],\n",
      "\n",
      "        [[104, 102,  67, ..., 206, 196, 184],\n",
      "         [105, 102, 144, ..., 202, 193, 183],\n",
      "         [ 81,  87, 226, ..., 200, 189, 177]],\n",
      "\n",
      "        [[103, 100,  74, ..., 203, 196, 189],\n",
      "         [105, 101, 145, ..., 197, 193, 187],\n",
      "         [ 78,  78, 225, ..., 199, 189, 182]]],\n",
      "\n",
      "\n",
      "       [[[ 84, 103,  88, ...,  94, 186, 231],\n",
      "         [ 86, 104, 164, ...,  91, 184, 226],\n",
      "         [ 64,  79, 240, ..., 103, 185, 228]],\n",
      "\n",
      "        [[ 86, 106,  87, ...,  94, 198, 229],\n",
      "         [ 79, 104, 160, ...,  91, 197, 224],\n",
      "         [ 72,  79, 237, ..., 104, 194, 225]],\n",
      "\n",
      "        [[ 82, 103,  88, ..., 110, 211, 227],\n",
      "         [ 76, 103, 159, ..., 107, 211, 223],\n",
      "         [ 72,  87, 237, ..., 121, 204, 222]],\n",
      "\n",
      "        ...,\n",
      "\n",
      "        [[110, 103,  60, ..., 219, 222, 195],\n",
      "         [103, 104, 141, ..., 218, 216, 194],\n",
      "         [ 84,  86, 230, ..., 215, 212, 186]],\n",
      "\n",
      "        [[106, 103,  61, ..., 218, 214, 181],\n",
      "         [105, 103, 141, ..., 215, 209, 181],\n",
      "         [ 85,  87, 228, ..., 212, 205, 173]],\n",
      "\n",
      "        [[106, 105,  65, ..., 212, 208, 186],\n",
      "         [104,  99, 143, ..., 209, 205, 183],\n",
      "         [ 86,  81, 226, ..., 209, 200, 177]]],\n",
      "\n",
      "\n",
      "       [[[ 85, 103,  84, ...,  88, 190, 230],\n",
      "         [ 88, 106, 160, ...,  87, 188, 226],\n",
      "         [ 68,  82, 238, ...,  94, 190, 227]],\n",
      "\n",
      "        [[ 89, 103,  81, ...,  85, 199, 230],\n",
      "         [ 82, 105, 154, ...,  84, 197, 226],\n",
      "         [ 72,  87, 233, ...,  93, 194, 227]],\n",
      "\n",
      "        [[ 85, 104,  87, ..., 105, 208, 229],\n",
      "         [ 79, 106, 158, ..., 103, 208, 225],\n",
      "         [ 67,  91, 238, ..., 114, 201, 226]],\n",
      "\n",
      "        ...,\n",
      "\n",
      "        [[111, 113,  63, ..., 217, 232, 190],\n",
      "         [104, 103, 144, ..., 217, 227, 190],\n",
      "         [ 87,  88, 235, ..., 214, 223, 181]],\n",
      "\n",
      "        [[109, 104,  62, ..., 221, 226, 178],\n",
      "         [105, 104, 143, ..., 220, 221, 177],\n",
      "         [ 86,  88, 232, ..., 219, 216, 169]],\n",
      "\n",
      "        [[103, 103,  63, ..., 218, 218, 181],\n",
      "         [106,  98, 145, ..., 217, 213, 178],\n",
      "         [ 79,  80, 231, ..., 218, 209, 171]]]], dtype=uint8), 'y': array([[1],\n",
      "       [9],\n",
      "       [2],\n",
      "       ...,\n",
      "       [1],\n",
      "       [6],\n",
      "       [9]], dtype=uint8)}\n"
     ]
    }
   ],
   "source": [
    "train = scipy.io.loadmat('train_32x32.mat')\n",
    "test = scipy.io.loadmat('test_32x32.mat')\n",
    "print(train)\n",
    "train_x = np.array(train['X'])\n",
    "train_x = np.array([train_x[:,:,:,x] for x in range(train_x[:,:,:,:].shape[3])])\n",
    "train_y = np.array(train['y'])\n",
    "train_y = keras.utils.to_categorical(train_y, 11)\n",
    "\n",
    "test_x = np.array(test['X'])\n",
    "test_x = np.array([test_x[:,:,:,x] for x in range(test_x[:,:,:,:].shape[3])])\n",
    "test_y = np.array(test['y'])\n",
    "test_y = keras.utils.to_categorical(test_y, 11)"
   ]
  },
  {
   "cell_type": "markdown",
   "metadata": {},
   "source": [
    "Now import all the Keras parts you need and start building your network. We've included some of the basics for you. "
   ]
  },
  {
   "cell_type": "code",
   "execution_count": 4,
   "metadata": {},
   "outputs": [
    {
     "name": "stdout",
     "output_type": "stream",
     "text": [
      "(73257, 32, 32, 3)\n",
      "(73257, 11)\n"
     ]
    }
   ],
   "source": [
    "from keras.models import Sequential\n",
    "from keras.layers import Activation\n",
    "from keras.layers import Dense, Conv1D, Conv2D, Flatten, Dropout\n",
    "from keras.layers import MaxPooling2D, BatchNormalization, AveragePooling2D\n",
    "\n",
    "print (train_x.shape)\n",
    "print (train_y.shape)\n"
   ]
  },
  {
   "cell_type": "markdown",
   "metadata": {},
   "source": [
    "Now build your network! Here are some tips: \n",
    "- The input shape is (32, 32, 3)\n",
    "- You'll need to include an extra argument after the input_shape argument \"data_format = 'channels_last'\" You include it like this: \n",
    "    - Conv2D(128, kernel_size = (5, 5), input_shape = (32, 32, 3), data_format = 'channels_last')\n",
    "- You'll want to use 2D layers (Conv2D, MaxPooling2D, etc.)\n",
    "- The kernel_size argument for 2D layers is a tuple like this (5, 5)\n",
    "\n",
    "So insead of kernel_size = 5 (in the example), you'll say kernel_size = (5, 5). This input is still tunable. \n",
    "\n",
    "And finally - here is your canvas! "
   ]
  },
  {
   "cell_type": "markdown",
   "metadata": {},
   "source": [
    "### To start you off:"
   ]
  },
  {
   "cell_type": "markdown",
   "metadata": {},
   "source": [
    "<p>Here is a simple network with a single set of hidden convolutional layers and all the basics you need to get started. You can experiment by extending this network, changing the value of the parameters, adding (or removing) layers, etc. For a good grade, you WILL need to get creative, and record the imapct the changes have on accuracy, on training time, etc.<p>"
   ]
  },
  {
   "cell_type": "code",
   "execution_count": 96,
   "metadata": {},
   "outputs": [],
   "source": [
    "#Convolutional Neural Net\n",
    "model = Sequential()\n",
    "model.add(Conv2D(filters = 15, kernel_size = (5, 5), input_shape = (32, 32, 3), data_format = 'channels_last'))\n",
    "model.add(MaxPooling2D(pool_size = (4,4)))\n",
    "model.add(BatchNormalization())\n",
    "model.add(Dropout(rate = 0.2))\n",
    "\n",
    "\n",
    "model.add(Flatten())\n",
    "model.add(Dense(units = 11, activation = 'softmax'))"
   ]
  },
  {
   "cell_type": "code",
   "execution_count": 97,
   "metadata": {},
   "outputs": [],
   "source": [
    "model.compile(loss = 'categorical_crossentropy', \n",
    "              optimizer = keras.optimizers.SGD(), \n",
    "              metrics = ['accuracy'])"
   ]
  },
  {
   "cell_type": "code",
   "execution_count": 98,
   "metadata": {
    "scrolled": false
   },
   "outputs": [
    {
     "name": "stdout",
     "output_type": "stream",
     "text": [
      "Epoch 1/20\n",
      "73257/73257 [==============================] - 36s 496us/step - loss: 1.5014 - acc: 0.5146\n",
      "Epoch 2/20\n",
      "73257/73257 [==============================] - 36s 492us/step - loss: 0.9420 - acc: 0.7132\n",
      "Epoch 3/20\n",
      "73257/73257 [==============================] - 37s 511us/step - loss: 0.8427 - acc: 0.7477\n",
      "Epoch 4/20\n",
      "73257/73257 [==============================] - 35s 475us/step - loss: 0.7938 - acc: 0.7652\n",
      "Epoch 5/20\n",
      "73257/73257 [==============================] - 35s 480us/step - loss: 0.7632 - acc: 0.7742\n",
      "Epoch 6/20\n",
      "73257/73257 [==============================] - 36s 498us/step - loss: 0.7447 - acc: 0.7810\n",
      "Epoch 7/20\n",
      "73257/73257 [==============================] - 35s 483us/step - loss: 0.7311 - acc: 0.7870\n",
      "Epoch 8/20\n",
      "73257/73257 [==============================] - 35s 479us/step - loss: 0.7216 - acc: 0.7903\n",
      "Epoch 9/20\n",
      "73257/73257 [==============================] - 35s 481us/step - loss: 0.7190 - acc: 0.7915\n",
      "Epoch 10/20\n",
      "73257/73257 [==============================] - 36s 486us/step - loss: 0.7052 - acc: 0.7966\n",
      "Epoch 11/20\n",
      "73257/73257 [==============================] - 37s 501us/step - loss: 0.7010 - acc: 0.7972\n",
      "Epoch 12/20\n",
      "73257/73257 [==============================] - 35s 478us/step - loss: 0.6973 - acc: 0.7971\n",
      "Epoch 13/20\n",
      "73257/73257 [==============================] - 35s 485us/step - loss: 0.6910 - acc: 0.8007\n",
      "Epoch 14/20\n",
      "73257/73257 [==============================] - 35s 477us/step - loss: 0.6918 - acc: 0.8005\n",
      "Epoch 15/20\n",
      "73257/73257 [==============================] - 36s 485us/step - loss: 0.6853 - acc: 0.8018\n",
      "Epoch 16/20\n",
      "73257/73257 [==============================] - 35s 475us/step - loss: 0.6869 - acc: 0.8008\n",
      "Epoch 17/20\n",
      "73257/73257 [==============================] - 35s 478us/step - loss: 0.6853 - acc: 0.8028\n",
      "Epoch 18/20\n",
      "73257/73257 [==============================] - 35s 475us/step - loss: 0.6832 - acc: 0.8038\n",
      "Epoch 19/20\n",
      "73257/73257 [==============================] - 35s 478us/step - loss: 0.6795 - acc: 0.8038\n",
      "Epoch 20/20\n",
      "73257/73257 [==============================] - 35s 482us/step - loss: 0.6794 - acc: 0.8051\n"
     ]
    },
    {
     "data": {
      "text/plain": [
       "<keras.callbacks.History at 0x6439230f0>"
      ]
     },
     "execution_count": 98,
     "metadata": {},
     "output_type": "execute_result"
    }
   ],
   "source": [
    "model.fit(train_x, train_y, epochs = 20, batch_size = 68)"
   ]
  },
  {
   "cell_type": "code",
   "execution_count": 92,
   "metadata": {},
   "outputs": [
    {
     "name": "stdout",
     "output_type": "stream",
     "text": [
      "26032/26032 [==============================] - 6s 212us/step\n",
      "\n",
      "loss is: 1.0566\n",
      "accuracy is: 0.6837738168408113\n"
     ]
    }
   ],
   "source": [
    "score = model.evaluate(test_x, test_y)\n",
    "print('\\nloss is: ' + str(score[0].round(4)))\n",
    "print('accuracy is: ' + str(score[1]))"
   ]
  },
  {
   "cell_type": "code",
   "execution_count": null,
   "metadata": {},
   "outputs": [],
   "source": []
  }
 ],
 "metadata": {
  "kernelspec": {
   "display_name": "Python 3",
   "language": "python",
   "name": "python3"
  },
  "language_info": {
   "codemirror_mode": {
    "name": "ipython",
    "version": 3
   },
   "file_extension": ".py",
   "mimetype": "text/x-python",
   "name": "python",
   "nbconvert_exporter": "python",
   "pygments_lexer": "ipython3",
   "version": "3.8.3"
  }
 },
 "nbformat": 4,
 "nbformat_minor": 2
}
