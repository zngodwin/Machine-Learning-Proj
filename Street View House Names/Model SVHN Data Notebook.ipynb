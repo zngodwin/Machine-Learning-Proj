{
 "cells": [
  {
   "cell_type": "markdown",
   "metadata": {},
   "source": [
    "# Model Street View House Names Data"
   ]
  },
  {
   "cell_type": "markdown",
   "metadata": {},
   "source": [
    "In this script we'll model the SVHN digit recognition dataset in python. The input is all set up for you, but its up to you to build the network. \n",
    "\n",
    "First we'll import all the libraries we need. "
   ]
  },
  {
   "cell_type": "code",
   "execution_count": 7,
   "metadata": {},
   "outputs": [],
   "source": [
    "import pandas as pd\n",
    "import numpy as np\n",
    "import os\n",
    "import scipy.io\n",
    "import keras"
   ]
  },
  {
   "cell_type": "markdown",
   "metadata": {},
   "source": [
    "# IMPORTANT IMPORTANT IMPORTANT"
   ]
  },
  {
   "cell_type": "markdown",
   "metadata": {},
   "source": [
    "Change the line below to point to the SVHN datafile included in the zip you downloaded to go along with this notebook. "
   ]
  },
  {
   "cell_type": "code",
   "execution_count": 8,
   "metadata": {
    "collapsed": true
   },
   "outputs": [],
   "source": [
    "os.chdir('C:\\\\Users\\\\John\\\\Documents\\\\Small Datasets\\\\SVHN Data')"
   ]
  },
  {
   "cell_type": "markdown",
   "metadata": {},
   "source": [
    "# IMPORTANT IMPORTANT IMPORTANT"
   ]
  },
  {
   "cell_type": "markdown",
   "metadata": {},
   "source": [
    "## Import the data. "
   ]
  },
  {
   "cell_type": "markdown",
   "metadata": {},
   "source": [
    "This is all the boilerplate that imports the dataset and sets up the matrix. it should all run in one go AS LONG AS you set the directory above correctly and included the double slashes (\"\\\\\\\")."
   ]
  },
  {
   "cell_type": "code",
   "execution_count": 5,
   "metadata": {},
   "outputs": [],
   "source": [
    "train = scipy.io.loadmat('train_32x32.mat')\n",
    "test = scipy.io.loadmat('test_32x32.mat')\n",
    "\n",
    "train_x = np.array(train['X'])\n",
    "train_x = np.array([train_x[:,:,:,x] for x in range(train_x[:,:,:,:].shape[3])])\n",
    "train_y = np.array(train['y'])\n",
    "train_y = keras.utils.to_categorical(train_y, 11)\n",
    "\n",
    "test_x = np.array(test['X'])\n",
    "test_x = np.array([test_x[:,:,:,x] for x in range(test_x[:,:,:,:].shape[3])])\n",
    "test_y = np.array(test['y'])\n",
    "test_y = keras.utils.to_categorical(test_y, 11)"
   ]
  },
  {
   "cell_type": "markdown",
   "metadata": {},
   "source": [
    "Now import all the Keras parts you need and start building your network. We've included some of the basics for you. "
   ]
  },
  {
   "cell_type": "code",
   "execution_count": 6,
   "metadata": {
    "collapsed": true
   },
   "outputs": [],
   "source": [
    "from keras.models import Sequential\n",
    "from keras.layers import Dense, Conv1D, Conv2D, Flatten\n",
    "from keras.layers import MaxPooling2D, BatchNormalization"
   ]
  },
  {
   "cell_type": "markdown",
   "metadata": {},
   "source": [
    "Now build your network! Here are some tips: \n",
    "- The input shape is (32, 32, 3)\n",
    "- You'll need to include an extra argument after the input_shape argument \"data_format = 'channels_last'\" You include it like this: \n",
    "    - Conv2D(128, kernel_size = (5, 5), input_shape = (32, 32, 3), data_format = 'channels_last')\n",
    "- You'll want to use 2D layers (Conv2D, MaxPooling2D, etc.)\n",
    "- The kernel_size argument for 2D layers is a tuple like this (5, 5)\n",
    "\n",
    "So insead of kernel_size = 5 (in the example), you'll say kernel_size = (5, 5). This imput is still tunable. \n",
    "\n",
    "And finally - here is your canvas! "
   ]
  },
  {
   "cell_type": "code",
   "execution_count": null,
   "metadata": {
    "collapsed": true
   },
   "outputs": [],
   "source": []
  }
 ],
 "metadata": {
  "kernelspec": {
   "display_name": "Python 3",
   "language": "python",
   "name": "python3"
  },
  "language_info": {
   "codemirror_mode": {
    "name": "ipython",
    "version": 3
   },
   "file_extension": ".py",
   "mimetype": "text/x-python",
   "name": "python",
   "nbconvert_exporter": "python",
   "pygments_lexer": "ipython3",
   "version": "3.6.3"
  }
 },
 "nbformat": 4,
 "nbformat_minor": 2
}
